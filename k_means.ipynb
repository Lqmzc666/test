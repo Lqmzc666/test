from sklearn.cluster import KMeans
import pandas as pd
import matplotlib.pyplot as plt
